{
 "cells": [
  {
   "cell_type": "code",
   "execution_count": 1,
   "id": "ae22cce1",
   "metadata": {},
   "outputs": [],
   "source": [
    "import pandas as pd\n",
    "import numpy as np\n",
    "import matplotlib.pyplot as plt\n",
    "import nltk\n",
    "from nltk.tokenize import word_tokenize\n",
    "# nltk.download('punkt')\n",
    "import re\n",
    "from nltk.corpus import stopwords\n",
    "# nltk.download('stopwords')\n",
    "from nltk.stem import WordNetLemmatizer\n",
    "# nltk.download('wordnet')\n",
    "\n",
    "from sklearn.feature_extraction.text import TfidfVectorizer\n",
    "\n",
    "from collections import Counter\n",
    "from sklearn.metrics import accuracy_score, confusion_matrix\n",
    "import itertools\n",
    "\n",
    "# pip install tabulate\n",
    "from tabulate import tabulate\n",
    "\n",
    "import seaborn as sns\n"
   ]
  },
  {
   "cell_type": "markdown",
   "id": "3b0fc2bd",
   "metadata": {},
   "source": [
    "### loading Data"
   ]
  },
  {
   "cell_type": "code",
   "execution_count": 2,
   "id": "f64397e2",
   "metadata": {},
   "outputs": [
    {
     "data": {
      "text/html": [
       "<div>\n",
       "<style scoped>\n",
       "    .dataframe tbody tr th:only-of-type {\n",
       "        vertical-align: middle;\n",
       "    }\n",
       "\n",
       "    .dataframe tbody tr th {\n",
       "        vertical-align: top;\n",
       "    }\n",
       "\n",
       "    .dataframe thead th {\n",
       "        text-align: right;\n",
       "    }\n",
       "</style>\n",
       "<table border=\"1\" class=\"dataframe\">\n",
       "  <thead>\n",
       "    <tr style=\"text-align: right;\">\n",
       "      <th></th>\n",
       "      <th>ArticleId</th>\n",
       "      <th>Text</th>\n",
       "      <th>Category</th>\n",
       "    </tr>\n",
       "  </thead>\n",
       "  <tbody>\n",
       "    <tr>\n",
       "      <th>0</th>\n",
       "      <td>1833</td>\n",
       "      <td>worldcom ex-boss launches defence lawyers defe...</td>\n",
       "      <td>business</td>\n",
       "    </tr>\n",
       "    <tr>\n",
       "      <th>1</th>\n",
       "      <td>154</td>\n",
       "      <td>german business confidence slides german busin...</td>\n",
       "      <td>business</td>\n",
       "    </tr>\n",
       "    <tr>\n",
       "      <th>2</th>\n",
       "      <td>1101</td>\n",
       "      <td>bbc poll indicates economic gloom citizens in ...</td>\n",
       "      <td>business</td>\n",
       "    </tr>\n",
       "    <tr>\n",
       "      <th>3</th>\n",
       "      <td>1976</td>\n",
       "      <td>lifestyle  governs mobile choice  faster  bett...</td>\n",
       "      <td>tech</td>\n",
       "    </tr>\n",
       "    <tr>\n",
       "      <th>4</th>\n",
       "      <td>917</td>\n",
       "      <td>enron bosses in $168m payout eighteen former e...</td>\n",
       "      <td>business</td>\n",
       "    </tr>\n",
       "    <tr>\n",
       "      <th>...</th>\n",
       "      <td>...</td>\n",
       "      <td>...</td>\n",
       "      <td>...</td>\n",
       "    </tr>\n",
       "    <tr>\n",
       "      <th>1485</th>\n",
       "      <td>857</td>\n",
       "      <td>double eviction from big brother model caprice...</td>\n",
       "      <td>entertainment</td>\n",
       "    </tr>\n",
       "    <tr>\n",
       "      <th>1486</th>\n",
       "      <td>325</td>\n",
       "      <td>dj double act revamp chart show dj duo jk and ...</td>\n",
       "      <td>entertainment</td>\n",
       "    </tr>\n",
       "    <tr>\n",
       "      <th>1487</th>\n",
       "      <td>1590</td>\n",
       "      <td>weak dollar hits reuters revenues at media gro...</td>\n",
       "      <td>business</td>\n",
       "    </tr>\n",
       "    <tr>\n",
       "      <th>1488</th>\n",
       "      <td>1587</td>\n",
       "      <td>apple ipod family expands market apple has exp...</td>\n",
       "      <td>tech</td>\n",
       "    </tr>\n",
       "    <tr>\n",
       "      <th>1489</th>\n",
       "      <td>538</td>\n",
       "      <td>santy worm makes unwelcome visit thousands of ...</td>\n",
       "      <td>tech</td>\n",
       "    </tr>\n",
       "  </tbody>\n",
       "</table>\n",
       "<p>1490 rows × 3 columns</p>\n",
       "</div>"
      ],
      "text/plain": [
       "      ArticleId                                               Text  \\\n",
       "0          1833  worldcom ex-boss launches defence lawyers defe...   \n",
       "1           154  german business confidence slides german busin...   \n",
       "2          1101  bbc poll indicates economic gloom citizens in ...   \n",
       "3          1976  lifestyle  governs mobile choice  faster  bett...   \n",
       "4           917  enron bosses in $168m payout eighteen former e...   \n",
       "...         ...                                                ...   \n",
       "1485        857  double eviction from big brother model caprice...   \n",
       "1486        325  dj double act revamp chart show dj duo jk and ...   \n",
       "1487       1590  weak dollar hits reuters revenues at media gro...   \n",
       "1488       1587  apple ipod family expands market apple has exp...   \n",
       "1489        538  santy worm makes unwelcome visit thousands of ...   \n",
       "\n",
       "           Category  \n",
       "0          business  \n",
       "1          business  \n",
       "2          business  \n",
       "3              tech  \n",
       "4          business  \n",
       "...             ...  \n",
       "1485  entertainment  \n",
       "1486  entertainment  \n",
       "1487       business  \n",
       "1488           tech  \n",
       "1489           tech  \n",
       "\n",
       "[1490 rows x 3 columns]"
      ]
     },
     "execution_count": 2,
     "metadata": {},
     "output_type": "execute_result"
    }
   ],
   "source": [
    "Train_df = pd.read_csv(\"./BBC/BBC News Train.csv\")\n",
    "Train_df"
   ]
  },
  {
   "cell_type": "code",
   "execution_count": 3,
   "id": "8c179767",
   "metadata": {},
   "outputs": [
    {
     "data": {
      "text/html": [
       "<div>\n",
       "<style scoped>\n",
       "    .dataframe tbody tr th:only-of-type {\n",
       "        vertical-align: middle;\n",
       "    }\n",
       "\n",
       "    .dataframe tbody tr th {\n",
       "        vertical-align: top;\n",
       "    }\n",
       "\n",
       "    .dataframe thead th {\n",
       "        text-align: right;\n",
       "    }\n",
       "</style>\n",
       "<table border=\"1\" class=\"dataframe\">\n",
       "  <thead>\n",
       "    <tr style=\"text-align: right;\">\n",
       "      <th></th>\n",
       "      <th>ArticleId</th>\n",
       "      <th>Text</th>\n",
       "    </tr>\n",
       "  </thead>\n",
       "  <tbody>\n",
       "    <tr>\n",
       "      <th>0</th>\n",
       "      <td>1018</td>\n",
       "      <td>qpr keeper day heads for preston queens park r...</td>\n",
       "    </tr>\n",
       "    <tr>\n",
       "      <th>1</th>\n",
       "      <td>1319</td>\n",
       "      <td>software watching while you work software that...</td>\n",
       "    </tr>\n",
       "    <tr>\n",
       "      <th>2</th>\n",
       "      <td>1138</td>\n",
       "      <td>d arcy injury adds to ireland woe gordon d arc...</td>\n",
       "    </tr>\n",
       "    <tr>\n",
       "      <th>3</th>\n",
       "      <td>459</td>\n",
       "      <td>india s reliance family feud heats up the ongo...</td>\n",
       "    </tr>\n",
       "    <tr>\n",
       "      <th>4</th>\n",
       "      <td>1020</td>\n",
       "      <td>boro suffer morrison injury blow middlesbrough...</td>\n",
       "    </tr>\n",
       "    <tr>\n",
       "      <th>...</th>\n",
       "      <td>...</td>\n",
       "      <td>...</td>\n",
       "    </tr>\n",
       "    <tr>\n",
       "      <th>730</th>\n",
       "      <td>1923</td>\n",
       "      <td>eu to probe alitalia  state aid  the european ...</td>\n",
       "    </tr>\n",
       "    <tr>\n",
       "      <th>731</th>\n",
       "      <td>373</td>\n",
       "      <td>u2 to play at grammy awards show irish rock ba...</td>\n",
       "    </tr>\n",
       "    <tr>\n",
       "      <th>732</th>\n",
       "      <td>1704</td>\n",
       "      <td>sport betting rules in spotlight a group of mp...</td>\n",
       "    </tr>\n",
       "    <tr>\n",
       "      <th>733</th>\n",
       "      <td>206</td>\n",
       "      <td>alfa romeos  to get gm engines  fiat is to sto...</td>\n",
       "    </tr>\n",
       "    <tr>\n",
       "      <th>734</th>\n",
       "      <td>471</td>\n",
       "      <td>citizenship event for 18s touted citizenship c...</td>\n",
       "    </tr>\n",
       "  </tbody>\n",
       "</table>\n",
       "<p>735 rows × 2 columns</p>\n",
       "</div>"
      ],
      "text/plain": [
       "     ArticleId                                               Text\n",
       "0         1018  qpr keeper day heads for preston queens park r...\n",
       "1         1319  software watching while you work software that...\n",
       "2         1138  d arcy injury adds to ireland woe gordon d arc...\n",
       "3          459  india s reliance family feud heats up the ongo...\n",
       "4         1020  boro suffer morrison injury blow middlesbrough...\n",
       "..         ...                                                ...\n",
       "730       1923  eu to probe alitalia  state aid  the european ...\n",
       "731        373  u2 to play at grammy awards show irish rock ba...\n",
       "732       1704  sport betting rules in spotlight a group of mp...\n",
       "733        206  alfa romeos  to get gm engines  fiat is to sto...\n",
       "734        471  citizenship event for 18s touted citizenship c...\n",
       "\n",
       "[735 rows x 2 columns]"
      ]
     },
     "execution_count": 3,
     "metadata": {},
     "output_type": "execute_result"
    }
   ],
   "source": [
    "Test_df = pd.read_csv(\"./BBC/BBC News Test.csv\")\n",
    "Test_df"
   ]
  },
  {
   "cell_type": "code",
   "execution_count": 4,
   "id": "9b561e17",
   "metadata": {},
   "outputs": [
    {
     "data": {
      "text/html": [
       "<div>\n",
       "<style scoped>\n",
       "    .dataframe tbody tr th:only-of-type {\n",
       "        vertical-align: middle;\n",
       "    }\n",
       "\n",
       "    .dataframe tbody tr th {\n",
       "        vertical-align: top;\n",
       "    }\n",
       "\n",
       "    .dataframe thead th {\n",
       "        text-align: right;\n",
       "    }\n",
       "</style>\n",
       "<table border=\"1\" class=\"dataframe\">\n",
       "  <thead>\n",
       "    <tr style=\"text-align: right;\">\n",
       "      <th></th>\n",
       "      <th>ArticleId</th>\n",
       "      <th>Category</th>\n",
       "    </tr>\n",
       "  </thead>\n",
       "  <tbody>\n",
       "    <tr>\n",
       "      <th>0</th>\n",
       "      <td>1018</td>\n",
       "      <td>sport</td>\n",
       "    </tr>\n",
       "    <tr>\n",
       "      <th>1</th>\n",
       "      <td>1319</td>\n",
       "      <td>tech</td>\n",
       "    </tr>\n",
       "    <tr>\n",
       "      <th>2</th>\n",
       "      <td>1138</td>\n",
       "      <td>business</td>\n",
       "    </tr>\n",
       "    <tr>\n",
       "      <th>3</th>\n",
       "      <td>459</td>\n",
       "      <td>entertainment</td>\n",
       "    </tr>\n",
       "    <tr>\n",
       "      <th>4</th>\n",
       "      <td>1020</td>\n",
       "      <td>politics</td>\n",
       "    </tr>\n",
       "    <tr>\n",
       "      <th>...</th>\n",
       "      <td>...</td>\n",
       "      <td>...</td>\n",
       "    </tr>\n",
       "    <tr>\n",
       "      <th>730</th>\n",
       "      <td>1923</td>\n",
       "      <td>sport</td>\n",
       "    </tr>\n",
       "    <tr>\n",
       "      <th>731</th>\n",
       "      <td>373</td>\n",
       "      <td>tech</td>\n",
       "    </tr>\n",
       "    <tr>\n",
       "      <th>732</th>\n",
       "      <td>1704</td>\n",
       "      <td>business</td>\n",
       "    </tr>\n",
       "    <tr>\n",
       "      <th>733</th>\n",
       "      <td>206</td>\n",
       "      <td>entertainment</td>\n",
       "    </tr>\n",
       "    <tr>\n",
       "      <th>734</th>\n",
       "      <td>471</td>\n",
       "      <td>politics</td>\n",
       "    </tr>\n",
       "  </tbody>\n",
       "</table>\n",
       "<p>735 rows × 2 columns</p>\n",
       "</div>"
      ],
      "text/plain": [
       "     ArticleId       Category\n",
       "0         1018          sport\n",
       "1         1319           tech\n",
       "2         1138       business\n",
       "3          459  entertainment\n",
       "4         1020       politics\n",
       "..         ...            ...\n",
       "730       1923          sport\n",
       "731        373           tech\n",
       "732       1704       business\n",
       "733        206  entertainment\n",
       "734        471       politics\n",
       "\n",
       "[735 rows x 2 columns]"
      ]
     },
     "execution_count": 4,
     "metadata": {},
     "output_type": "execute_result"
    }
   ],
   "source": [
    "solution_df = pd.read_csv(\"./BBC/BBC News Sample Solution.csv\")\n",
    "solution_df"
   ]
  },
  {
   "cell_type": "markdown",
   "id": "f1cd0cc8",
   "metadata": {},
   "source": [
    "### EDA\n",
    "\n",
    "1. analysis the dataset for data size, columns data types and missing values\n",
    "2. check the summary statistics for column ArticleId\n",
    "3. plot the distribution of the column Category\n",
    "4. compare the text for different category\n"
   ]
  },
  {
   "cell_type": "code",
   "execution_count": 5,
   "id": "ebfb65c3",
   "metadata": {},
   "outputs": [
    {
     "name": "stdout",
     "output_type": "stream",
     "text": [
      "<class 'pandas.core.frame.DataFrame'>\n",
      "RangeIndex: 1490 entries, 0 to 1489\n",
      "Data columns (total 3 columns):\n",
      " #   Column     Non-Null Count  Dtype \n",
      "---  ------     --------------  ----- \n",
      " 0   ArticleId  1490 non-null   int64 \n",
      " 1   Text       1490 non-null   object\n",
      " 2   Category   1490 non-null   object\n",
      "dtypes: int64(1), object(2)\n",
      "memory usage: 35.0+ KB\n"
     ]
    }
   ],
   "source": [
    "Train_df.info()"
   ]
  },
  {
   "cell_type": "code",
   "execution_count": 6,
   "id": "34fb2c92",
   "metadata": {},
   "outputs": [
    {
     "name": "stdout",
     "output_type": "stream",
     "text": [
      "<class 'pandas.core.frame.DataFrame'>\n",
      "RangeIndex: 735 entries, 0 to 734\n",
      "Data columns (total 2 columns):\n",
      " #   Column     Non-Null Count  Dtype \n",
      "---  ------     --------------  ----- \n",
      " 0   ArticleId  735 non-null    int64 \n",
      " 1   Text       735 non-null    object\n",
      "dtypes: int64(1), object(1)\n",
      "memory usage: 11.6+ KB\n"
     ]
    }
   ],
   "source": [
    "Test_df.info()"
   ]
  },
  {
   "cell_type": "code",
   "execution_count": 7,
   "id": "b8f8b49b",
   "metadata": {},
   "outputs": [
    {
     "data": {
      "text/plain": [
       "ArticleId    0\n",
       "Text         0\n",
       "Category     0\n",
       "dtype: int64"
      ]
     },
     "execution_count": 7,
     "metadata": {},
     "output_type": "execute_result"
    }
   ],
   "source": [
    "# check missing value for train_df\n",
    "Train_df.isnull().sum()\n"
   ]
  },
  {
   "cell_type": "code",
   "execution_count": 8,
   "id": "8feb9557",
   "metadata": {},
   "outputs": [
    {
     "data": {
      "text/plain": [
       "ArticleId    0\n",
       "Text         0\n",
       "dtype: int64"
      ]
     },
     "execution_count": 8,
     "metadata": {},
     "output_type": "execute_result"
    }
   ],
   "source": [
    "# check missing value for test_df\n",
    "Test_df.isnull().sum()\n"
   ]
  },
  {
   "cell_type": "code",
   "execution_count": 9,
   "id": "bc629341",
   "metadata": {},
   "outputs": [
    {
     "data": {
      "text/plain": [
       "count    1490.000000\n",
       "mean     1119.696644\n",
       "std       641.826283\n",
       "min         2.000000\n",
       "25%       565.250000\n",
       "50%      1112.500000\n",
       "75%      1680.750000\n",
       "max      2224.000000\n",
       "Name: ArticleId, dtype: float64"
      ]
     },
     "execution_count": 9,
     "metadata": {},
     "output_type": "execute_result"
    }
   ],
   "source": [
    "# summary statistics for Article Id\n",
    "Train_df['ArticleId'].describe()"
   ]
  },
  {
   "cell_type": "code",
   "execution_count": 10,
   "id": "082e8c0f",
   "metadata": {},
   "outputs": [
    {
     "data": {
      "text/plain": [
       "Text(0, 0.5, 'Count')"
      ]
     },
     "execution_count": 10,
     "metadata": {},
     "output_type": "execute_result"
    },
    {
     "data": {
      "image/png": "[encoded data removed]",
      "text/plain": [
       "<Figure size 432x288 with 1 Axes>"
      ]
     },
     "metadata": {
      "needs_background": "light"
     },
     "output_type": "display_data"
    }
   ],
   "source": [
    "# Distribution for Category\n",
    "plt.hist(Train_df['Category'])\n",
    "plt.title('Histogram plot for Category')\n",
    "plt.xlabel('Category')\n",
    "plt.ylabel('Count')"
   ]
  },
  {
   "cell_type": "code",
   "execution_count": 11,
   "id": "44c5e753",
   "metadata": {},
   "outputs": [
    {
     "name": "stdout",
     "output_type": "stream",
     "text": [
      "Category =  business\n",
      "   Text:  worldcom ex-boss launches defence lawyers defending former worldcom chief bernie ebbers against a battery of fraud charges have called a company whistleblower as their first witness.  cynthia cooper  worldcom s ex-head of internal accounting  alerted directors to irregular accounting practices at the us telecoms giant in 2002. her warnings led to the collapse of the firm following the discovery of an $11bn (£5.7bn) accounting fraud. mr ebbers has pleaded not guilty to charges of fraud and conspiracy.  prosecution lawyers have argued that mr ebbers orchestrated a series of accounting tricks at worldcom  ordering employees to hide expenses and inflate revenues to meet wall street earnings estimates. but ms cooper  who now runs her own consulting business  told a jury in new york on wednesday that external auditors arthur andersen had approved worldcom s accounting in early 2001 and 2002. she said andersen had given a  green light  to the procedures and practices used by worldcom. mr ebber s lawyers have said he was unaware of the fraud  arguing that auditors did not alert him to any problems.  ms cooper also said that during shareholder meetings mr ebbers often passed over technical questions to the company s finance chief  giving only  brief  answers himself. the prosecution s star witness  former worldcom financial chief scott sullivan  has said that mr ebbers ordered accounting adjustments at the firm  telling him to  hit our books . however  ms cooper said mr sullivan had not mentioned  anything uncomfortable  about worldcom s accounting during a 2001 audit committee meeting. mr ebbers could face a jail sentence of 85 years if convicted of all the charges he is facing. worldcom emerged from bankruptcy protection in 2004  and is now known as mci. last week  mci agreed to a buyout by verizon communications in a deal valued at $6.75bn.\n",
      "\n",
      "Category =  tech\n",
      "   Text:  lifestyle  governs mobile choice  faster  better or funkier hardware alone is not going to help phone firms sell more handsets  research suggests.  instead  phone firms keen to get more out of their customers should not just be pushing the technology for its own sake. consumers are far more interested in how handsets fit in with their lifestyle than they are in screen size  onboard memory or the chip inside  shows an in-depth study by handset maker ericsson.  historically in the industry there has been too much focus on using technology   said dr michael bjorn  senior advisor on mobile media at ericsson s consumer and enterprise lab.  we have to stop saying that these technologies will change their lives   he said.  we should try to speak to consumers in their own language and help them see how it fits in with what they are doing   he told the bbc news website.  for the study  ericsson interviewed 14 000 mobile phone owners on the ways they use their phone.  people s habits remain the same   said dr bjorn.  they just move the activity into the mobile phone as it s a much more convenient way to do it.   one good example of this was diary-writing among younger people  he said. while diaries have always been popular  a mobile phone -- especially one equipped with a camera -- helps them keep it in a different form. youngsters  use of text messages also reflects their desire to chat and keep in contact with friends and again just lets them do it in a slightly changed way. dr bjorn said that although consumers do what they always did but use a phone to do it  the sheer variety of what the new handset technologies make possible does gradually drive new habits and lifestyles. ericsson s research has shown that consumers divide into different  tribes  that use phones in different ways. dr bjorn said groups dubbed  pioneers  and  materialists  were most interested in trying new things and were behind the start of many trends in phone use.  for instance   he said   older people are using sms much more than they did five years ago.  this was because younger users  often the children of ageing mobile owners  encouraged older people to try it so they could keep in touch.  another factor governing the speed of change in mobile phone use was the simple speed with which new devices are bought by pioneers and materialists. only when about 25% of people have handsets with new innovations on them  such as cameras  can consumers stop worrying that if they send a picture message the person at the other end will be able to see it.  once this significant number of users is passed  use of new innovations tends to take off. dr bjorn said that early reports of camera phone usage in japan seemed to imply that the innovation was going to be a flop. however  he said  now 45% of the japanese people ericsson questioned use their camera phone at least once a month. in 2003 the figure was 29%. similarly  across europe the numbers of people taking snaps with cameras is starting to rise. in 2003 only 4% of the people in the uk took a phonecam snap at least once a month. now the figure is 14%. similar rises have been seen in many other european nations. dr bjorn said that people also used their camera phones in very different ways to film and even digital cameras.  usage patterns for digital cameras are almost exactly replacing usage patterns for analogue cameras   he said. digital cameras tend to be used on significant events such as weddings  holidays and birthdays. by contrast  he said  camera phones were being used much more to capture a moment and were being woven into everyday life.\n",
      "\n",
      "Category =  politics\n",
      "   Text:  howard  truanted to play snooker  conservative leader michael howard has admitted he used to play truant to spend time with his school friends at a snooker hall.  mr howard said his time at jack s snooker hall in llanelli in the 1950s had not done him  any lasting damage . but he told the times educational supplement that truancy was  very bad  and said  firm action  was needed. mr howard also called for a return to o-levels and more classroom discipline.  mr howard eventually left llanelli grammar school - and the snooker hall - to go to cambridge university. he said:  i don t think it s done me any lasting damage. nor has it made me a snooker world champion.  there might have been some occasions when we left early of an afternoon.   i m just being honest. i think truancy is a very bad thing and that firm action should be taken to deal with it.  another player who has failed to win snooker s world championship - jimmy  the whirlwind   white - has previously admitted missing lessons  instead spending his days in smoky halls.  tony meo [another player] and me used to spend all of our spare time there   mr white said   we loved the game and the atmosphere.  school went out of the window. i went for a while and then started taking time off.  mr howard s fellow welshman ray reardon - known by his fellow professionals as  dracula  - won the snooker world championship six times  having left school at 14 to work as a miner. and terry griffiths  like mr howard from llanelli  won the tournament in 1979. it is not known whether the two of them ever clashed cues at jack s.\n",
      "\n",
      "Category =  sport\n",
      "   Text:  wales silent on grand slam talk rhys williams says wales are still not thinking of winning the grand slam despite a third six nations win.   that s the last thing on our minds at the moment   said williams  a second- half replacement in saturday s 24-18 win over france in paris.  we all realise how difficult a task it is to go up to scotland and beat them.  we ve come unstuck there a couple of times recently so our focus is on that game and we ll worry about ireland hopefully after we ve beaten scotland.  with captain gareth thomas ruled out of the rest of the campaign with a broken thumb  williams is vying for his first start in the championship so far.  kevin morgan is probably favourite to replace thomas at full-back  leaving williams and hal luscombe to battle for the right wing berth. a hamstring injury denied luscombe the opportunity to make a third successive start  but the dragons winger is expected to be fit for the trip to murrayfield on 13 march. hooker robin mcbryde is doubtful after picking up a knee injury in paris  but centre sonny parker and flanker colin charvis are set to recover from injury to be in contention for selection. said wales assistant coach scott johnson:  they ve worked through the weekend and the reports are a bit more positive.  so we re getting a couple back and that adds to the depth of the squad.  scotland secured their first win of the campaign on saturday by grinding out an 18-10 win over italy.  matt williams  side has shown little in attack  but johnson insisted the scots will be difficult opposition to break down.  italy are really brave opposition and sometimes it s very hard to win   he said.  so an ugly win can be just as effective as a 30 or 40 point victory.  scotland are a hard side and very underrated so we re not taking anything for granted.  we re not basking in the glory of winning our first three games. we ve got to be diligent in our preparation.  that s my job and we ve got to make sure we re focused.\n",
      "\n",
      "Category =  entertainment\n",
      "   Text:  french honour for director parker british film director sir alan parker has been made an officer in the order of arts and letters  one of france s highest cultural honours.  sir alan received his decoration in paris on wednesday from french culture minister renaud donnedieu de vabres.  you have explored the possibilities of film with an immense talent   mr de vabres said as he presented the award. parker praised french films  saying:  hollywood  which created modern cinema  uses it only as a commodity.  he told the minister:  i am honoured to be thus distinguished by france  the flag carrier of cinema throughout the world.  sir alan s films include oscar-winning fame plus midnight express and the commitments.  a founding member of the director s guild of great britain  he is a former chairman of the uk film council and on the board of the british film institute.  through your work and your campaigns  you have shown us how the artist occupies an essential place in our contemporary society   mr de vabres said.  through your dreams which you show us  through the links that you weave  you question the world through the mirror of your work.  he also cited the director s 2003 film the life of david gale  in which kevin spacey played a man on death row  as proof of his  veritable artistic commitment against the death sentence .\n",
      "\n"
     ]
    }
   ],
   "source": [
    "# compare different category and text\n",
    "categories = Train_df['Category'].unique()\n",
    "for category in categories:\n",
    "    contains = Train_df.loc[Train_df['Category'] == category, 'Text'].values[0]\n",
    "    print(\"Category = \",category)\n",
    "    print(\"   Text: \", contains)\n",
    "    print('')"
   ]
  },
  {
   "cell_type": "markdown",
   "id": "e9df8567",
   "metadata": {},
   "source": [
    "# preprocessing\n",
    "\n",
    "1. lowercase all the text columns\n",
    "\n",
    "2. Remove punctuation for the text Columns\n",
    "\n",
    "3. Apply tokenize for the text Columns\n",
    "\n",
    "4. Remove stop words\n",
    "\n",
    "5. Apply lemmatization for the Text Columns\n",
    "\n",
    "6. Join the words back to string for TF_IDF\n"
   ]
  },
  {
   "cell_type": "code",
   "execution_count": 12,
   "id": "d8728844",
   "metadata": {},
   "outputs": [],
   "source": [
    "def preprocessing_df (df):\n",
    "    df = df.str.lower()\n",
    "    df = df.replace(r'[^\\w\\s]', '', regex=True)\n",
    "    df = df.apply(word_tokenize)\n",
    "    stop_words = set(stopwords.words('english'))\n",
    "    df = df.apply(lambda tokens: [word for word in tokens if word not in stop_words])\n",
    "    df = df.apply(lambda tokens: [WordNetLemmatizer().lemmatize(word) for word in tokens])\n",
    "    df = df.apply(' '.join)\n",
    "\n",
    "    return df"
   ]
  },
  {
   "cell_type": "code",
   "execution_count": 13,
   "id": "a4927cd2",
   "metadata": {},
   "outputs": [],
   "source": [
    "#preprocessing train_df\n",
    "Train_df['Text'] = preprocessing_df(Train_df['Text'])"
   ]
  },
  {
   "cell_type": "code",
   "execution_count": 14,
   "id": "83628d83",
   "metadata": {},
   "outputs": [],
   "source": [
    "#preprocessing test_df\n",
    "Test_df['Text'] = preprocessing_df(Test_df['Text'])"
   ]
  },
  {
   "cell_type": "code",
   "execution_count": 15,
   "id": "b6450389",
   "metadata": {},
   "outputs": [
    {
     "data": {
      "image/png": "[encoded data removed]",
      "text/plain": [
       "<Figure size 432x288 with 1 Axes>"
      ]
     },
     "metadata": {
      "needs_background": "light"
     },
     "output_type": "display_data"
    },
    {
     "data": {
      "image/png": "[encoded data removed]",
      "text/plain": [
       "<Figure size 432x288 with 1 Axes>"
      ]
     },
     "metadata": {
      "needs_background": "light"
     },
     "output_type": "display_data"
    },
    {
     "data": {
      "image/png": "[encoded data removed]",
      "text/plain": [
       "<Figure size 432x288 with 1 Axes>"
      ]
     },
     "metadata": {
      "needs_background": "light"
     },
     "output_type": "display_data"
    },
    {
     "data": {
      "image/png": "[encoded data removed]",
      "text/plain": [
       "<Figure size 432x288 with 1 Axes>"
      ]
     },
     "metadata": {
      "needs_background": "light"
     },
     "output_type": "display_data"
    },
    {
     "data": {
      "image/png": "[encoded data removed]",
      "text/plain": [
       "<Figure size 432x288 with 1 Axes>"
      ]
     },
     "metadata": {
      "needs_background": "light"
     },
     "output_type": "display_data"
    }
   ],
   "source": [
    "text = {}\n",
    "for category in categories:\n",
    "    all_text = ' '.join(Train_df.loc[Train_df['Category'] == category, 'Text'])\n",
    "    text[category] = all_text.split()\n",
    "\n",
    "for category, text in text.items():\n",
    "    word_freq = dict(Counter(text).most_common(10))\n",
    "    \n",
    "    plt.bar(word_freq.keys(), word_freq.values())\n",
    "    plt.title('Top {} Most Common Words in {} Category'.format(10, category))\n",
    "    plt.xlabel('Words')\n",
    "    plt.ylabel('Frequency')\n",
    "    plt.xticks(rotation=45)\n",
    "    plt.show()"
   ]
  },
  {
   "cell_type": "markdown",
   "id": "02f5ea10",
   "metadata": {},
   "source": [
    "## TF-IDF\n",
    "\n",
    "Explantaion:\n",
    "\n",
    "TF calculates the term frequency of each word in each article. \n",
    "\n",
    "IDF calculates the frequency of each word across all the articles. \n",
    "\n",
    "TF-IDF together calculate the importance of each word and assign weights to each word according to the frequency. \n",
    "\n",
    "The output after applying the TF-IDF function is a matrix with documents and words, the values are the assigned weights.\n",
    "\n"
   ]
  },
  {
   "cell_type": "code",
   "execution_count": 16,
   "id": "f4850ee3",
   "metadata": {},
   "outputs": [],
   "source": [
    "vectorizer = TfidfVectorizer()\n",
    "Train_tfidf = vectorizer.fit_transform(Train_df['Text'])"
   ]
  },
  {
   "cell_type": "code",
   "execution_count": 17,
   "id": "736bdefb",
   "metadata": {},
   "outputs": [
    {
     "data": {
      "image/png": "[encoded data removed]",
      "text/plain": [
       "<Figure size 432x288 with 1 Axes>"
      ]
     },
     "metadata": {
      "needs_background": "light"
     },
     "output_type": "display_data"
    },
    {
     "data": {
      "image/png": "[encoded data removed]",
      "text/plain": [
       "<Figure size 432x288 with 1 Axes>"
      ]
     },
     "metadata": {
      "needs_background": "light"
     },
     "output_type": "display_data"
    },
    {
     "data": {
      "image/png": "[encoded data removed]",
      "text/plain": [
       "<Figure size 432x288 with 1 Axes>"
      ]
     },
     "metadata": {
      "needs_background": "light"
     },
     "output_type": "display_data"
    },
    {
     "data": {
      "image/png": "[encoded data removed]",
      "text/plain": [
       "<Figure size 432x288 with 1 Axes>"
      ]
     },
     "metadata": {
      "needs_background": "light"
     },
     "output_type": "display_data"
    },
    {
     "data": {
      "image/png": "[encoded data removed]",
      "text/plain": [
       "<Figure size 432x288 with 1 Axes>"
      ]
     },
     "metadata": {
      "needs_background": "light"
     },
     "output_type": "display_data"
    }
   ],
   "source": [
    "\n",
    "Train_tfidf_df = pd.DataFrame(Train_tfidf.toarray(), columns=vectorizer.get_feature_names_out())\n",
    "\n",
    "mean_tfidf = Train_tfidf_df.groupby(Train_df['Category']).mean()\n",
    "\n",
    "for category in categories:\n",
    "    top_words = mean_tfidf.loc[category].nlargest(10).index\n",
    "    top_words_mean = mean_tfidf.loc[category, top_words]\n",
    "    \n",
    "    plt.bar(top_words, top_words_mean)\n",
    "    plt.title('Top {} Most Important Words in {} Category'.format(10, category))\n",
    "    plt.xlabel('Words')\n",
    "    plt.ylabel('Mean TF-IDF Score')\n",
    "    plt.xticks(rotation=45)\n",
    "    plt.show()\n",
    "\n"
   ]
  },
  {
   "cell_type": "code",
   "execution_count": 18,
   "id": "2453e80e",
   "metadata": {},
   "outputs": [],
   "source": [
    "Test_tfidf = vectorizer.transform(Test_df['Text'])"
   ]
  },
  {
   "cell_type": "code",
   "execution_count": 19,
   "id": "2604ad30",
   "metadata": {},
   "outputs": [
    {
     "data": {
      "text/plain": [
       "(1490, 24560)"
      ]
     },
     "execution_count": 19,
     "metadata": {},
     "output_type": "execute_result"
    }
   ],
   "source": [
    "Train_tfidf.shape"
   ]
  },
  {
   "cell_type": "code",
   "execution_count": 20,
   "id": "04e441d2",
   "metadata": {},
   "outputs": [
    {
     "data": {
      "text/plain": [
       "(735, 24560)"
      ]
     },
     "execution_count": 20,
     "metadata": {},
     "output_type": "execute_result"
    }
   ],
   "source": [
    "Test_tfidf.shape"
   ]
  },
  {
   "cell_type": "markdown",
   "id": "b3e9a9ca",
   "metadata": {},
   "source": [
    "# Non-negative matrix factorization \n",
    "\n",
    "1. Non-negative matrix factorization to train the data\n",
    "2. Using numpy argmax to find the maximum value\n",
    "3. Build a function to find the best match label for the category\n",
    "4. Calculate the accuracy and confusion matrix\n"
   ]
  },
  {
   "cell_type": "code",
   "execution_count": 21,
   "id": "db3d3c6f",
   "metadata": {},
   "outputs": [],
   "source": [
    "from sklearn.decomposition import NMF\n",
    "\n",
    "nmf_model = NMF(n_components=5, random_state=42).fit(Train_tfidf)\n",
    "\n",
    "train_w = nmf_model.transform(Train_tfidf)\n",
    "\n",
    "# find the maximun value\n",
    "yp= np.argmax(train_w, axis=1)"
   ]
  },
  {
   "cell_type": "code",
   "execution_count": 22,
   "id": "8298280b",
   "metadata": {},
   "outputs": [],
   "source": [
    "# find the best match label\n",
    "def label_permute_compare(ytdf,yp,n=5):\n",
    "\n",
    "    accuracy = 0\n",
    "    \n",
    "    list_1 = ['business', 'tech', 'politics', 'sport', 'entertainment']\n",
    "    list_2 = [0, 1, 2, 3, 4]\n",
    "    unique_combinations = []\n",
    "    permut = itertools.permutations(list_1, len(list_2))\n",
    "    dictd = {}\n",
    "    for comb in permut:\n",
    "        zipped =  dict(zip(comb, list_2))\n",
    "        unique_combinations.append(zipped)\n",
    "    \n",
    "    for item in unique_combinations: \n",
    "        ytdf_num = ytdf['Category'].map(item)\n",
    "        accu = accuracy_score(ytdf_num, yp)\n",
    "\n",
    "        if accu > accuracy:\n",
    "            accuracy = accu\n",
    "            label_dict = item\n",
    "\n",
    "    return label_dict, accuracy"
   ]
  },
  {
   "cell_type": "code",
   "execution_count": 23,
   "id": "62ee9317",
   "metadata": {},
   "outputs": [
    {
     "name": "stdout",
     "output_type": "stream",
     "text": [
      "accuracy= 0.9154362416107382 {'sport': 0, 'politics': 1, 'tech': 2, 'entertainment': 3, 'business': 4}\n"
     ]
    }
   ],
   "source": [
    "res, accuracy = label_permute_compare(Train_df, yp, 5)\n",
    "print('accuracy=', accuracy, res)"
   ]
  },
  {
   "cell_type": "code",
   "execution_count": 24,
   "id": "54e3771a",
   "metadata": {},
   "outputs": [
    {
     "data": {
      "text/plain": [
       "array([[341,   0,   0,   3,   2],\n",
       "       [  3, 247,   4,   0,  20],\n",
       "       [  5,   3, 243,   7,   3],\n",
       "       [  5,   8,  31, 222,   7],\n",
       "       [  0,  14,  10,   1, 311]])"
      ]
     },
     "execution_count": 24,
     "metadata": {},
     "output_type": "execute_result"
    }
   ],
   "source": [
    "label_num = Train_df['Category'].map(res)\n",
    "matrix = confusion_matrix(label_num,yp)\n",
    "matrix"
   ]
  },
  {
   "cell_type": "code",
   "execution_count": 25,
   "id": "d999fc60",
   "metadata": {},
   "outputs": [],
   "source": [
    "# predict the test data category base one the best match label\n",
    "test_w = nmf_model.transform(Test_tfidf)\n",
    "yp_test= np.argmax(test_w, axis=1)\n",
    "\n",
    "# Test_df['Category'] = yp_test\n",
    "# result_new = {0:'sport', 1:'politics', 2:'tech', 3:'entertainment', 4:'business'}\n",
    "# Test_df['Category'] = Test_df['Category'].map(result_new)\n",
    "# Final_df = Test_df[['ArticleId','Category']]\n",
    "# Final_df.to_csv('final.csv', index=False)"
   ]
  },
  {
   "cell_type": "markdown",
   "id": "707ddb85",
   "metadata": {},
   "source": [
    "### Test data accuracy before hyperparameter tuning is 0.91972\n",
    "\n",
    "### Question:\n",
    "\n",
    "#### when you train the unsupervised model for matrix factorization, should you include texts (word features) from the test dataset or not as the input matrix? Why or why not?\n",
    "\n",
    "No, we should not include the text from the test dataset as the input martix. It will cause problem like overfitting, data leakage and miss leading accuracy."
   ]
  },
  {
   "cell_type": "markdown",
   "id": "1cdd0f1f",
   "metadata": {},
   "source": [
    "## Hyperparameter Tuning"
   ]
  },
  {
   "cell_type": "code",
   "execution_count": 26,
   "id": "fb035514",
   "metadata": {},
   "outputs": [
    {
     "name": "stderr",
     "output_type": "stream",
     "text": [
      "/opt/anaconda3/lib/python3.8/site-packages/sklearn/model_selection/_validation.py:821: UserWarning: Scoring failed. The score on this train-test partition for these parameters will be set to nan. Details: \n",
      "Traceback (most recent call last):\n",
      "  File \"/opt/anaconda3/lib/python3.8/site-packages/sklearn/model_selection/_validation.py\", line 810, in _score\n",
      "    scores = scorer(estimator, X_test, y_test)\n",
      "  File \"/opt/anaconda3/lib/python3.8/site-packages/sklearn/metrics/_scorer.py\", line 266, in __call__\n",
      "    return self._score(partial(_cached_call, None), estimator, X, y_true, **_kwargs)\n",
      "  File \"/opt/anaconda3/lib/python3.8/site-packages/sklearn/metrics/_scorer.py\", line 353, in _score\n",
      "    y_pred = method_caller(estimator, \"predict\", X)\n",
      "  File \"/opt/anaconda3/lib/python3.8/site-packages/sklearn/metrics/_scorer.py\", line 86, in _cached_call\n",
      "    result, _ = _get_response_values(\n",
      "  File \"/opt/anaconda3/lib/python3.8/site-packages/sklearn/utils/_response.py\", line 218, in _get_response_values\n",
      "    y_pred, pos_label = estimator.predict(X), None\n",
      "  File \"/opt/anaconda3/lib/python3.8/site-packages/sklearn/utils/_available_if.py\", line 31, in __get__\n",
      "    if not self.check(obj):\n",
      "  File \"/opt/anaconda3/lib/python3.8/site-packages/sklearn/pipeline.py\", line 44, in check\n",
      "    getattr(self._final_estimator, attr)\n",
      "AttributeError: 'NMF' object has no attribute 'predict'\n",
      "\n",
      "  warnings.warn(\n",
      "/opt/anaconda3/lib/python3.8/site-packages/sklearn/model_selection/_validation.py:425: FitFailedWarning: \n",
      "90 fits failed out of a total of 180.\n",
      "The score on these train-test partitions for these parameters will be set to nan.\n",
      "If these failures are not expected, you can try to debug them by setting error_score='raise'.\n",
      "\n",
      "Below are more details about the failures:\n",
      "--------------------------------------------------------------------------------\n",
      "90 fits failed with the following error:\n",
      "Traceback (most recent call last):\n",
      "  File \"/opt/anaconda3/lib/python3.8/site-packages/sklearn/model_selection/_validation.py\", line 729, in _fit_and_score\n",
      "    estimator.fit(X_train, y_train, **fit_params)\n",
      "  File \"/opt/anaconda3/lib/python3.8/site-packages/sklearn/base.py\", line 1152, in wrapper\n",
      "    return fit_method(estimator, *args, **kwargs)\n",
      "  File \"/opt/anaconda3/lib/python3.8/site-packages/sklearn/pipeline.py\", line 427, in fit\n",
      "    self._final_estimator.fit(Xt, y, **fit_params_last_step)\n",
      "  File \"/opt/anaconda3/lib/python3.8/site-packages/sklearn/decomposition/_nmf.py\", line 1255, in fit\n",
      "    self.fit_transform(X, **params)\n",
      "  File \"/opt/anaconda3/lib/python3.8/site-packages/sklearn/utils/_set_output.py\", line 157, in wrapped\n",
      "    data_to_wrap = f(self, X, *args, **kwargs)\n",
      "  File \"/opt/anaconda3/lib/python3.8/site-packages/sklearn/base.py\", line 1152, in wrapper\n",
      "    return fit_method(estimator, *args, **kwargs)\n",
      "  File \"/opt/anaconda3/lib/python3.8/site-packages/sklearn/decomposition/_nmf.py\", line 1606, in fit_transform\n",
      "    W, H, n_iter = self._fit_transform(X, W=W, H=H)\n",
      "  File \"/opt/anaconda3/lib/python3.8/site-packages/sklearn/decomposition/_nmf.py\", line 1663, in _fit_transform\n",
      "    raise ValueError(\n",
      "ValueError: When beta_loss <= 0 and X contains zeros, the solver may diverge. Please add small values to X, or use a positive beta_loss.\n",
      "\n",
      "  warnings.warn(some_fits_failed_message, FitFailedWarning)\n",
      "/opt/anaconda3/lib/python3.8/site-packages/sklearn/model_selection/_search.py:979: UserWarning: One or more of the test scores are non-finite: [nan nan nan nan nan nan nan nan nan nan nan nan nan nan nan nan nan nan\n",
      " nan nan nan nan nan nan nan nan nan nan nan nan nan nan nan nan nan nan]\n",
      "  warnings.warn(\n"
     ]
    },
    {
     "data": {
      "text/html": [
       "<style>#sk-container-id-1 {color: black;}#sk-container-id-1 pre{padding: 0;}#sk-container-id-1 div.sk-toggleable {background-color: white;}#sk-container-id-1 label.sk-toggleable__label {cursor: pointer;display: block;width: 100%;margin-bottom: 0;padding: 0.3em;box-sizing: border-box;text-align: center;}#sk-container-id-1 label.sk-toggleable__label-arrow:before {content: \"▸\";float: left;margin-right: 0.25em;color: #696969;}#sk-container-id-1 label.sk-toggleable__label-arrow:hover:before {color: black;}#sk-container-id-1 div.sk-estimator:hover label.sk-toggleable__label-arrow:before {color: black;}#sk-container-id-1 div.sk-toggleable__content {max-height: 0;max-width: 0;overflow: hidden;text-align: left;background-color: #f0f8ff;}#sk-container-id-1 div.sk-toggleable__content pre {margin: 0.2em;color: black;border-radius: 0.25em;background-color: #f0f8ff;}#sk-container-id-1 input.sk-toggleable__control:checked~div.sk-toggleable__content {max-height: 200px;max-width: 100%;overflow: auto;}#sk-container-id-1 input.sk-toggleable__control:checked~label.sk-toggleable__label-arrow:before {content: \"▾\";}#sk-container-id-1 div.sk-estimator input.sk-toggleable__control:checked~label.sk-toggleable__label {background-color: #d4ebff;}#sk-container-id-1 div.sk-label input.sk-toggleable__control:checked~label.sk-toggleable__label {background-color: #d4ebff;}#sk-container-id-1 input.sk-hidden--visually {border: 0;clip: rect(1px 1px 1px 1px);clip: rect(1px, 1px, 1px, 1px);height: 1px;margin: -1px;overflow: hidden;padding: 0;position: absolute;width: 1px;}#sk-container-id-1 div.sk-estimator {font-family: monospace;background-color: #f0f8ff;border: 1px dotted black;border-radius: 0.25em;box-sizing: border-box;margin-bottom: 0.5em;}#sk-container-id-1 div.sk-estimator:hover {background-color: #d4ebff;}#sk-container-id-1 div.sk-parallel-item::after {content: \"\";width: 100%;border-bottom: 1px solid gray;flex-grow: 1;}#sk-container-id-1 div.sk-label:hover label.sk-toggleable__label {background-color: #d4ebff;}#sk-container-id-1 div.sk-serial::before {content: \"\";position: absolute;border-left: 1px solid gray;box-sizing: border-box;top: 0;bottom: 0;left: 50%;z-index: 0;}#sk-container-id-1 div.sk-serial {display: flex;flex-direction: column;align-items: center;background-color: white;padding-right: 0.2em;padding-left: 0.2em;position: relative;}#sk-container-id-1 div.sk-item {position: relative;z-index: 1;}#sk-container-id-1 div.sk-parallel {display: flex;align-items: stretch;justify-content: center;background-color: white;position: relative;}#sk-container-id-1 div.sk-item::before, #sk-container-id-1 div.sk-parallel-item::before {content: \"\";position: absolute;border-left: 1px solid gray;box-sizing: border-box;top: 0;bottom: 0;left: 50%;z-index: -1;}#sk-container-id-1 div.sk-parallel-item {display: flex;flex-direction: column;z-index: 1;position: relative;background-color: white;}#sk-container-id-1 div.sk-parallel-item:first-child::after {align-self: flex-end;width: 50%;}#sk-container-id-1 div.sk-parallel-item:last-child::after {align-self: flex-start;width: 50%;}#sk-container-id-1 div.sk-parallel-item:only-child::after {width: 0;}#sk-container-id-1 div.sk-dashed-wrapped {border: 1px dashed gray;margin: 0 0.4em 0.5em 0.4em;box-sizing: border-box;padding-bottom: 0.4em;background-color: white;}#sk-container-id-1 div.sk-label label {font-family: monospace;font-weight: bold;display: inline-block;line-height: 1.2em;}#sk-container-id-1 div.sk-label-container {text-align: center;}#sk-container-id-1 div.sk-container {/* jupyter's `normalize.less` sets `[hidden] { display: none; }` but bootstrap.min.css set `[hidden] { display: none !important; }` so we also need the `!important` here to be able to override the default hidden behavior on the sphinx rendered scikit-learn.org. See: https://github.com/scikit-learn/scikit-learn/issues/21755 */display: inline-block !important;position: relative;}#sk-container-id-1 div.sk-text-repr-fallback {display: none;}</style><div id=\"sk-container-id-1\" class=\"sk-top-container\"><div class=\"sk-text-repr-fallback\"><pre>GridSearchCV(cv=5,\n",
       "             estimator=Pipeline(steps=[(&#x27;tfidf&#x27;, TfidfVectorizer()),\n",
       "                                       (&#x27;nmf&#x27;, NMF())]),\n",
       "             param_grid={&#x27;nmf__alpha_W&#x27;: [0.1, 0.01, 0.001],\n",
       "                         &#x27;nmf__beta_loss&#x27;: [&#x27;kullback-leibler&#x27;,\n",
       "                                            &#x27;itakura-saito&#x27;],\n",
       "                         &#x27;nmf__init&#x27;: [&#x27;nndsvda&#x27;, &#x27;nndsvdar&#x27;],\n",
       "                         &#x27;nmf__n_components&#x27;: [5], &#x27;nmf__solver&#x27;: [&#x27;mu&#x27;],\n",
       "                         &#x27;tfidf__max_features&#x27;: [1000, 2000, 3000]},\n",
       "             scoring=&#x27;accuracy&#x27;)</pre><b>In a Jupyter environment, please rerun this cell to show the HTML representation or trust the notebook. <br />On GitHub, the HTML representation is unable to render, please try loading this page with nbviewer.org.</b></div><div class=\"sk-container\" hidden><div class=\"sk-item sk-dashed-wrapped\"><div class=\"sk-label-container\"><div class=\"sk-label sk-toggleable\"><input class=\"sk-toggleable__control sk-hidden--visually\" id=\"sk-estimator-id-1\" type=\"checkbox\" ><label for=\"sk-estimator-id-1\" class=\"sk-toggleable__label sk-toggleable__label-arrow\">GridSearchCV</label><div class=\"sk-toggleable__content\"><pre>GridSearchCV(cv=5,\n",
       "             estimator=Pipeline(steps=[(&#x27;tfidf&#x27;, TfidfVectorizer()),\n",
       "                                       (&#x27;nmf&#x27;, NMF())]),\n",
       "             param_grid={&#x27;nmf__alpha_W&#x27;: [0.1, 0.01, 0.001],\n",
       "                         &#x27;nmf__beta_loss&#x27;: [&#x27;kullback-leibler&#x27;,\n",
       "                                            &#x27;itakura-saito&#x27;],\n",
       "                         &#x27;nmf__init&#x27;: [&#x27;nndsvda&#x27;, &#x27;nndsvdar&#x27;],\n",
       "                         &#x27;nmf__n_components&#x27;: [5], &#x27;nmf__solver&#x27;: [&#x27;mu&#x27;],\n",
       "                         &#x27;tfidf__max_features&#x27;: [1000, 2000, 3000]},\n",
       "             scoring=&#x27;accuracy&#x27;)</pre></div></div></div><div class=\"sk-parallel\"><div class=\"sk-parallel-item\"><div class=\"sk-item\"><div class=\"sk-label-container\"><div class=\"sk-label sk-toggleable\"><input class=\"sk-toggleable__control sk-hidden--visually\" id=\"sk-estimator-id-2\" type=\"checkbox\" ><label for=\"sk-estimator-id-2\" class=\"sk-toggleable__label sk-toggleable__label-arrow\">estimator: Pipeline</label><div class=\"sk-toggleable__content\"><pre>Pipeline(steps=[(&#x27;tfidf&#x27;, TfidfVectorizer()), (&#x27;nmf&#x27;, NMF())])</pre></div></div></div><div class=\"sk-serial\"><div class=\"sk-item\"><div class=\"sk-serial\"><div class=\"sk-item\"><div class=\"sk-estimator sk-toggleable\"><input class=\"sk-toggleable__control sk-hidden--visually\" id=\"sk-estimator-id-3\" type=\"checkbox\" ><label for=\"sk-estimator-id-3\" class=\"sk-toggleable__label sk-toggleable__label-arrow\">TfidfVectorizer</label><div class=\"sk-toggleable__content\"><pre>TfidfVectorizer()</pre></div></div></div><div class=\"sk-item\"><div class=\"sk-estimator sk-toggleable\"><input class=\"sk-toggleable__control sk-hidden--visually\" id=\"sk-estimator-id-4\" type=\"checkbox\" ><label for=\"sk-estimator-id-4\" class=\"sk-toggleable__label sk-toggleable__label-arrow\">NMF</label><div class=\"sk-toggleable__content\"><pre>NMF()</pre></div></div></div></div></div></div></div></div></div></div></div></div>"
      ],
      "text/plain": [
       "GridSearchCV(cv=5,\n",
       "             estimator=Pipeline(steps=[('tfidf', TfidfVectorizer()),\n",
       "                                       ('nmf', NMF())]),\n",
       "             param_grid={'nmf__alpha_W': [0.1, 0.01, 0.001],\n",
       "                         'nmf__beta_loss': ['kullback-leibler',\n",
       "                                            'itakura-saito'],\n",
       "                         'nmf__init': ['nndsvda', 'nndsvdar'],\n",
       "                         'nmf__n_components': [5], 'nmf__solver': ['mu'],\n",
       "                         'tfidf__max_features': [1000, 2000, 3000]},\n",
       "             scoring='accuracy')"
      ]
     },
     "execution_count": 26,
     "metadata": {},
     "output_type": "execute_result"
    }
   ],
   "source": [
    "from sklearn.model_selection import GridSearchCV\n",
    "from sklearn.pipeline import Pipeline\n",
    "\n",
    "pipeline = Pipeline([\n",
    "    ('tfidf', TfidfVectorizer()),\n",
    "    ('nmf', NMF())\n",
    "])\n",
    "\n",
    "param_grid = {\n",
    "    'tfidf__max_features': [1000, 2000, 3000], \n",
    "    'nmf__n_components': [5],  \n",
    "    'nmf__solver': ['mu'],\n",
    "    'nmf__init': ['nndsvda','nndsvdar'],\n",
    "    'nmf__alpha_W': [0.1, 0.01, 0.001],  \n",
    "    'nmf__beta_loss': ['kullback-leibler', 'itakura-saito']  \n",
    "}\n",
    "\n",
    "\n",
    "\n",
    "grid_search = GridSearchCV(pipeline, param_grid, cv=5, scoring='accuracy')\n",
    "\n",
    "grid_search.fit(Train_df['Text'], Train_df['Category'])\n",
    "\n"
   ]
  },
  {
   "cell_type": "code",
   "execution_count": 27,
   "id": "f8571fa7",
   "metadata": {},
   "outputs": [
    {
     "name": "stdout",
     "output_type": "stream",
     "text": [
      "Best Parameters:  {'nmf__alpha_W': 0.1, 'nmf__beta_loss': 'kullback-leibler', 'nmf__init': 'nndsvda', 'nmf__n_components': 5, 'nmf__solver': 'mu', 'tfidf__max_features': 1000}\n"
     ]
    }
   ],
   "source": [
    "print(\"Best Parameters: \", grid_search.best_params_)\n"
   ]
  },
  {
   "cell_type": "code",
   "execution_count": 28,
   "id": "83ecad8f",
   "metadata": {},
   "outputs": [
    {
     "name": "stdout",
     "output_type": "stream",
     "text": [
      "Best Estimator:  Pipeline(steps=[('tfidf', TfidfVectorizer(max_features=1000)),\n",
      "                ('nmf',\n",
      "                 NMF(alpha_W=0.1, beta_loss='kullback-leibler', init='nndsvda',\n",
      "                     n_components=5, solver='mu'))])\n"
     ]
    }
   ],
   "source": [
    "best_estimator = grid_search.best_estimator_\n",
    "print(\"Best Estimator: \", best_estimator)\n"
   ]
  },
  {
   "cell_type": "code",
   "execution_count": 29,
   "id": "e0ece121",
   "metadata": {},
   "outputs": [
    {
     "name": "stdout",
     "output_type": "stream",
     "text": [
      "accuracy= 0.9355704697986578 {'politics': 0, 'sport': 1, 'entertainment': 2, 'business': 3, 'tech': 4}\n"
     ]
    }
   ],
   "source": [
    "# retrain the model with the best parameters\n",
    "\n",
    "Train_tfidf = best_estimator[0].fit_transform(Train_df['Text'])\n",
    "\n",
    "train_w = best_estimator[1].transform(Train_tfidf)\n",
    "\n",
    "yp= np.argmax(train_w, axis=1)\n",
    "\n",
    "res, accuracy = label_permute_compare(Train_df, yp, 5)\n",
    "print('accuracy=', accuracy, res)"
   ]
  },
  {
   "cell_type": "code",
   "execution_count": 30,
   "id": "b22f5186",
   "metadata": {},
   "outputs": [
    {
     "data": {
      "text/plain": [
       "array([[267,   1,   0,   4,   2],\n",
       "       [ 12, 330,   3,   1,   0],\n",
       "       [ 12,   0, 257,   1,   3],\n",
       "       [ 27,   1,   0, 301,   7],\n",
       "       [  9,   4,   5,   4, 239]])"
      ]
     },
     "execution_count": 30,
     "metadata": {},
     "output_type": "execute_result"
    }
   ],
   "source": [
    "# confusion_matrix\n",
    "label_num = Train_df['Category'].map(res)\n",
    "matrix = confusion_matrix(label_num,yp)\n",
    "matrix"
   ]
  },
  {
   "cell_type": "code",
   "execution_count": 31,
   "id": "99959292",
   "metadata": {},
   "outputs": [],
   "source": [
    "Test_tfidf = best_estimator[0].transform(Test_df['Text'])\n",
    "\n",
    "\n",
    "test_w = best_estimator[1].transform(Test_tfidf)\n",
    "yp_test= np.argmax(test_w, axis=1)"
   ]
  },
  {
   "cell_type": "code",
   "execution_count": 32,
   "id": "8eed73ff",
   "metadata": {},
   "outputs": [],
   "source": [
    "# Test_df['Category'] = yp_test\n",
    "# result_new = {0:'politics', 1:'sport', 2:'entertainment', 3:'business', 4:'tech'}\n",
    "# Test_df['Category'] = Test_df['Category'].map(result_new)\n",
    "# Final_df = Test_df[['ArticleId','Category']]\n",
    "# Final_df\n",
    "# Final_df.to_csv('final2.csv', index=False)"
   ]
  },
  {
   "cell_type": "markdown",
   "id": "646579ba",
   "metadata": {},
   "source": [
    "### Test Accuracy after hyperparameter tuning is 0.93197"
   ]
  },
  {
   "cell_type": "markdown",
   "id": "464fdbdd",
   "metadata": {},
   "source": [
    "### Summary Table"
   ]
  },
  {
   "cell_type": "code",
   "execution_count": 33,
   "id": "c8218e93",
   "metadata": {},
   "outputs": [
    {
     "data": {
      "image/png": "[encoded data removed]",
      "text/plain": [
       "<Figure size 432x288 with 1 Axes>"
      ]
     },
     "metadata": {
      "needs_background": "light"
     },
     "output_type": "display_data"
    }
   ],
   "source": [
    "name = ['Train data Accuracy', 'Test data Accuracy']\n",
    "before_hyper = [0.91543, 0.91972]\n",
    "after_hyper = [0.93557, 0.93197]\n",
    "\n",
    "table_data = zip(name, before_hyper, after_hyper)\n",
    "table = tabulate(table_data, headers=['Evaluation metrics', 'Before Hyperparameter', 'After Hyperparameter'], tablefmt='grid')\n",
    "\n",
    "plt.text(-0.5, 0.4, table, {'fontsize': 14, 'fontfamily': 'monospace'})\n",
    "plt.axis('off')\n",
    "plt.title('Accuracy Rate Comparison for Unsupervised Learning Before and After Hyperparameter Tuning', fontsize=17)\n",
    "plt.show()"
   ]
  },
  {
   "cell_type": "markdown",
   "id": "9360e79c",
   "metadata": {},
   "source": [
    "# Supervised learning\n",
    "\n",
    "## 1. Train data size = 100%"
   ]
  },
  {
   "cell_type": "code",
   "execution_count": 34,
   "id": "6b389ed8",
   "metadata": {},
   "outputs": [],
   "source": [
    "from sklearn.linear_model import LogisticRegression\n",
    "from sklearn.model_selection import train_test_split\n"
   ]
  },
  {
   "cell_type": "code",
   "execution_count": 35,
   "id": "d04df0f0",
   "metadata": {},
   "outputs": [
    {
     "data": {
      "text/plain": [
       "0.9892617449664429"
      ]
     },
     "execution_count": 35,
     "metadata": {},
     "output_type": "execute_result"
    }
   ],
   "source": [
    "clf = LogisticRegression(random_state=0).fit(Train_tfidf, Train_df['Category'])\n",
    "ypredicts = clf.predict(Train_tfidf)\n",
    "accuracy_score(Train_df['Category'],ypredicts)"
   ]
  },
  {
   "cell_type": "code",
   "execution_count": 36,
   "id": "ab9f95e1",
   "metadata": {},
   "outputs": [],
   "source": [
    "yp_test2 = clf.predict(Test_tfidf)\n"
   ]
  },
  {
   "cell_type": "markdown",
   "id": "fe423db7",
   "metadata": {},
   "source": [
    "### Test data accuracy with 100% train data size is 0.96734\n"
   ]
  },
  {
   "cell_type": "code",
   "execution_count": 37,
   "id": "55f08324",
   "metadata": {},
   "outputs": [],
   "source": [
    "# Test_df['Category'] = yp_test2\n",
    "\n",
    "# Final_df = Test_df[['ArticleId','Category']]\n",
    "# Final_df\n",
    "# Final_df.to_csv('SL final.csv', index=False)"
   ]
  },
  {
   "cell_type": "markdown",
   "id": "9da5947e",
   "metadata": {},
   "source": [
    "## 2. Train data size = 10%"
   ]
  },
  {
   "cell_type": "code",
   "execution_count": 38,
   "id": "0f3b3eed",
   "metadata": {},
   "outputs": [
    {
     "data": {
      "text/plain": [
       "1.0"
      ]
     },
     "execution_count": 38,
     "metadata": {},
     "output_type": "execute_result"
    }
   ],
   "source": [
    "X_train, _, y_train, _ = train_test_split(Train_tfidf, Train_df['Category'], train_size=0.1, random_state=0)\n",
    "\n",
    "clf = LogisticRegression(random_state=0).fit(X_train, y_train)\n",
    "ypredicts = clf.predict(X_train)\n",
    "accuracy_score(y_train, ypredicts)\n"
   ]
  },
  {
   "cell_type": "code",
   "execution_count": 39,
   "id": "461d7f13",
   "metadata": {},
   "outputs": [],
   "source": [
    "yp_test10 = clf.predict(Test_tfidf)\n"
   ]
  },
  {
   "cell_type": "markdown",
   "id": "ab9fb2a0",
   "metadata": {},
   "source": [
    "### Test data accuracy with 10% train data size is 0.92517"
   ]
  },
  {
   "cell_type": "code",
   "execution_count": 40,
   "id": "f4bfc5e4",
   "metadata": {},
   "outputs": [],
   "source": [
    "\n",
    "# Test_df['Category'] = yp_test10\n",
    "\n",
    "# Final_df = Test_df[['ArticleId','Category']]\n",
    "# Final_df.to_csv('SL final_10%.csv', index=False)"
   ]
  },
  {
   "cell_type": "markdown",
   "id": "a97bf109",
   "metadata": {},
   "source": [
    "## 3. Train data size = 20%"
   ]
  },
  {
   "cell_type": "code",
   "execution_count": 41,
   "id": "f227c173",
   "metadata": {},
   "outputs": [
    {
     "data": {
      "text/plain": [
       "1.0"
      ]
     },
     "execution_count": 41,
     "metadata": {},
     "output_type": "execute_result"
    }
   ],
   "source": [
    "X_train, _, y_train, _ = train_test_split(Train_tfidf, Train_df['Category'], train_size=0.2, random_state=0)\n",
    "\n",
    "clf = LogisticRegression(random_state=0).fit(X_train, y_train)\n",
    "ypredicts = clf.predict(X_train)\n",
    "accuracy_score(y_train, ypredicts)"
   ]
  },
  {
   "cell_type": "code",
   "execution_count": 42,
   "id": "341b71c6",
   "metadata": {},
   "outputs": [],
   "source": [
    "yp_test20 = clf.predict(Test_tfidf)\n"
   ]
  },
  {
   "cell_type": "markdown",
   "id": "0b697b6e",
   "metadata": {},
   "source": [
    "### Test data accuracy with 20% train data size is 0.95918"
   ]
  },
  {
   "cell_type": "code",
   "execution_count": 43,
   "id": "83c9e6bc",
   "metadata": {},
   "outputs": [],
   "source": [
    "# Test_df['Category'] = yp_test20\n",
    "\n",
    "# Final_df = Test_df[['ArticleId','Category']]\n",
    "# Final_df.to_csv('SL final_20%.csv', index=False)"
   ]
  },
  {
   "cell_type": "markdown",
   "id": "2562a1eb",
   "metadata": {},
   "source": [
    "## 4. Train data size = 50%"
   ]
  },
  {
   "cell_type": "code",
   "execution_count": 44,
   "id": "bd898f28",
   "metadata": {},
   "outputs": [],
   "source": [
    "X_train, _, y_train, _ = train_test_split(Train_tfidf, Train_df['Category'], train_size=0.5, random_state=0)\n"
   ]
  },
  {
   "cell_type": "code",
   "execution_count": 45,
   "id": "7ba24ee0",
   "metadata": {},
   "outputs": [
    {
     "data": {
      "text/plain": [
       "0.9946308724832215"
      ]
     },
     "execution_count": 45,
     "metadata": {},
     "output_type": "execute_result"
    }
   ],
   "source": [
    "clf = LogisticRegression(random_state=0).fit(X_train, y_train)\n",
    "ypredicts = clf.predict(X_train)\n",
    "accuracy_score(y_train, ypredicts)"
   ]
  },
  {
   "cell_type": "code",
   "execution_count": 46,
   "id": "d3ad8121",
   "metadata": {},
   "outputs": [],
   "source": [
    "yp_test50 = clf.predict(Test_tfidf)\n"
   ]
  },
  {
   "cell_type": "markdown",
   "id": "c03b2b4b",
   "metadata": {},
   "source": [
    "### Test data accuracy with 50% train data size is 0.96462\n"
   ]
  },
  {
   "cell_type": "code",
   "execution_count": 47,
   "id": "e50f96aa",
   "metadata": {},
   "outputs": [],
   "source": [
    "\n",
    "# Test_df['Category'] = yp_test50\n",
    "\n",
    "# Final_df = Test_df[['ArticleId','Category']]\n",
    "# Final_df.to_csv('SL final_50%.csv', index=False)"
   ]
  },
  {
   "cell_type": "markdown",
   "id": "abc6940c",
   "metadata": {},
   "source": [
    "### Summary Table"
   ]
  },
  {
   "cell_type": "code",
   "execution_count": 48,
   "id": "404f0443",
   "metadata": {},
   "outputs": [
    {
     "data": {
      "image/png": "[encoded data removed]",
      "text/plain": [
       "<Figure size 432x288 with 1 Axes>"
      ]
     },
     "metadata": {
      "needs_background": "light"
     },
     "output_type": "display_data"
    }
   ],
   "source": [
    "name = ['Train data Accuracy', 'Test data Accuracy']\n",
    "size100 = [0.98926, 0.96734]\n",
    "size10 = [1.0, 0.92517]\n",
    "size20 = [1.0, 0.95918]\n",
    "size50 = [0.99463, 0.96462]\n",
    "\n",
    "table_data = zip(name, size100, size10,size20,size50)\n",
    "table = tabulate(table_data, headers=['Evaluation metrics', 'Train data size 100%', 'Train data size 10%','Train data size 20%','Train data size 50%'], tablefmt='grid')\n",
    "\n",
    "plt.text(-0.7, 0.4, table, {'fontsize': 14, 'fontfamily': 'monospace'})\n",
    "plt.axis('off')\n",
    "plt.title('Accuracy Rate Comparison for Supervised Learning with Different Train Data Size',fontsize=20)\n",
    "plt.show()"
   ]
  },
  {
   "cell_type": "markdown",
   "id": "cee0796f",
   "metadata": {},
   "source": [
    "### Question:\n",
    "\n",
    "#### Discuss comparison with the unsupervised approach.  Which methods are data-efficient (require a smaller amount of data to achieve similar results)? What about overfitting?\n",
    "\n",
    "Supervised learning with train data size 50% are data-efficient with 0.96462 accuracy rate for test data. \n",
    "Supervised learning with train data size 10% and 20% is suffer with overfitting.\n",
    "\n",
    "Unsupervised learning accuracy rate is lower than supvervised learning expect train data size 10%.\n",
    "Unsupervised learning didnot suffer for overfitting issue."
   ]
  },
  {
   "cell_type": "markdown",
   "id": "d157e625",
   "metadata": {},
   "source": [
    "# References\n",
    "\n",
    "1. Wellyw. (2024, February 2). Unsupervised and supervised classification. Kaggle. https://www.kaggle.com/code/wellyw/unsupervised-and-supervised-classification#Unsupervised-Learning\n",
    "\n",
    "\n",
    "2. Mudadla, S. (2023, November 10). Suggested order of NLP preprocessing operations. for example reviews.csv file. Medium. https://medium.com/@sujathamudadla1213/suggested-order-of-nlp-preprocessing-operations-for-example-reviews-csv-file-06e88485ab49\n",
    "\n",
    "3. Mattison. (2022, July 4). Unsupervised - matrix factorization. Kaggle. https://www.kaggle.com/code/mattison/unsupervised-matrix-factorization\n",
    "\n",
    "4. GeeksforGeeks. (2024, January 3). Removing stop words with NLTK in Python. GeeksforGeeks. https://www.geeksforgeeks.org/removing-stop-words-nltk-python/\n",
    "\n",
    "5. How to remove special characters in Pandas Dataframe | Saturn Cloud Blog. (2024, January 11). https://saturncloud.io/blog/how-to-remove-special-characters-in-pandas-dataframe/\n",
    "\n",
    "6. Cjtayl. (2024, January 29). mini_project_part_1. Kaggle. https://www.kaggle.com/code/cjtayl31772/mini-project-part-1"
   ]
  },
  {
   "cell_type": "code",
   "execution_count": null,
   "id": "823c7b45",
   "metadata": {},
   "outputs": [],
   "source": []
  }
 ],
 "metadata": {
  "kernelspec": {
   "display_name": "Python 3",
   "language": "python",
   "name": "python3"
  },
  "language_info": {
   "codemirror_mode": {
    "name": "ipython",
    "version": 3
   },
   "file_extension": ".py",
   "mimetype": "text/x-python",
   "name": "python",
   "nbconvert_exporter": "python",
   "pygments_lexer": "ipython3",
   "version": "3.8.8"
  }
 },
 "nbformat": 4,
 "nbformat_minor": 5
}
